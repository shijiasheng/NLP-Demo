{
 "cells": [
  {
   "cell_type": "markdown",
   "metadata": {},
   "source": [
    "# 工具包"
   ]
  },
  {
   "cell_type": "markdown",
   "metadata": {},
   "source": [
    "包括构建词汇，构建数据集，构建迭代程序，获取时间"
   ]
  },
  {
   "cell_type": "code",
   "execution_count": 31,
   "metadata": {},
   "outputs": [],
   "source": [
    "#工具包\n",
    "import os\n",
    "import torch\n",
    "import numpy as np\n",
    "import pickle as pkl\n",
    "from tqdm import tqdm\n",
    "import time\n",
    "from datetime import timedelta"
   ]
  },
  {
   "cell_type": "markdown",
   "metadata": {},
   "source": [
    "设置词表长度限制，将未知的字确定"
   ]
  },
  {
   "cell_type": "code",
   "execution_count": 32,
   "metadata": {},
   "outputs": [],
   "source": [
    "MAX_VOCAB_SIZE = 10000  # 词表长度限制\n",
    "UNK, PAD = '<UNK>', '<PAD>'  # 未知字，padding符号"
   ]
  },
  {
   "cell_type": "markdown",
   "metadata": {},
   "source": [
    "构建词"
   ]
  },
  {
   "cell_type": "code",
   "execution_count": 33,
   "metadata": {},
   "outputs": [],
   "source": [
    "def build_vocab(file_path, tokenizer, max_size, min_freq):\n",
    "    #词汇字典\n",
    "    vocab_dic = {}\n",
    "    with open(file_path, 'r', encoding='UTF-8') as f:\n",
    "        for line in tqdm(f):\n",
    "            lin = line.strip()\n",
    "            if not lin:\n",
    "                continue\n",
    "            content = lin.split('\\t')[0]\n",
    "            for word in tokenizer(content):\n",
    "                vocab_dic[word] = vocab_dic.get(word, 0) + 1\n",
    "        vocab_list = sorted([_ for _ in vocab_dic.items() if _[1] >= min_freq], key=lambda x: x[1], reverse=True)[:max_size]\n",
    "        vocab_dic = {word_count[0]: idx for idx, word_count in enumerate(vocab_list)}\n",
    "        vocab_dic.update({UNK: len(vocab_dic), PAD: len(vocab_dic) + 1})\n",
    "    return vocab_dic"
   ]
  },
  {
   "cell_type": "markdown",
   "metadata": {},
   "source": [
    "构建数据集"
   ]
  },
  {
   "cell_type": "code",
   "execution_count": 34,
   "metadata": {},
   "outputs": [],
   "source": [
    "def build_dataset(config, ues_word):\n",
    "    if ues_word:\n",
    "        tokenizer = lambda x: x.split(' ')  # 以空格隔开，word-level\n",
    "    else:\n",
    "        tokenizer = lambda x: [y for y in x]  # char-level\n",
    "    # 判断并扩充词字典\n",
    "    if os.path.exists(config.vocab_path):\n",
    "        vocab = pkl.load(open(config.vocab_path, 'rb'))\n",
    "    else:\n",
    "        vocab = build_vocab(config.train_path, tokenizer=tokenizer, max_size=MAX_VOCAB_SIZE, min_freq=1)\n",
    "        pkl.dump(vocab, open(config.vocab_path, 'wb'))\n",
    "    # 多少个字词\n",
    "    print(f\"Vocab size: {len(vocab)}\")\n",
    "    \n",
    "    # 加载数据集\n",
    "    def load_dataset(path, pad_size=32):\n",
    "        contents = []\n",
    "        with open(path, 'r', encoding='UTF-8') as f:\n",
    "            for line in tqdm(f):     # tqdm进度条\n",
    "                lin = line.strip()   # strip()去掉了首尾的空格\n",
    "                if not lin:          #判断不是空的\n",
    "                    continue\n",
    "                content, label = lin.split('\\t')    # content去掉tab\n",
    "                words_line = []\n",
    "                token = tokenizer(content)          # tokenizer为分词器，token变成不同数字统计类似，模式示例{'下': 1, '北京': 1, '今天': 2, '雨': 1, '了': 2, '我': 1, '加班': 1}\n",
    "                seq_len = len(token)                # token的长度，多少个词\n",
    "                # 之前没有的就扩充\n",
    "                if pad_size:\n",
    "                    if len(token) < pad_size:\n",
    "                        token.extend([PAD] * (pad_size - len(token)))\n",
    "                    else:\n",
    "                        token = token[:pad_size]\n",
    "                        seq_len = pad_size\n",
    "                # word to id\n",
    "                for word in token:\n",
    "                    words_line.append(vocab.get(word, vocab.get(UNK)))\n",
    "                contents.append((words_line, int(label), seq_len))\n",
    "        return contents  # [([...], 0), ([...], 1), ...]\n",
    "    \n",
    "    # 三种数据集的加载\n",
    "    train = load_dataset(config.train_path, config.pad_size) # 训练集集\n",
    "    dev = load_dataset(config.dev_path, config.pad_size) # 验证集\n",
    "    test = load_dataset(config.test_path, config.pad_size) # 测试集\n",
    "    \n",
    "    #返回的是词典，三种数据集\n",
    "    return vocab, train, dev, test"
   ]
  },
  {
   "cell_type": "markdown",
   "metadata": {},
   "source": [
    "数据集迭代器类"
   ]
  },
  {
   "cell_type": "code",
   "execution_count": 35,
   "metadata": {},
   "outputs": [],
   "source": [
    "class DatasetIterater(object):\n",
    "    def __init__(self, batches, batch_size, device):\n",
    "        self.batch_size = batch_size\n",
    "        self.batches = batches\n",
    "        self.n_batches = len(batches) // batch_size\n",
    "        self.residue = False  # 记录batch数量是否为整数\n",
    "        if len(batches) % self.n_batches != 0:\n",
    "            self.residue = True\n",
    "        self.index = 0\n",
    "        self.device = device\n",
    "\n",
    "    def _to_tensor(self, datas):\n",
    "        x = torch.LongTensor([_[0] for _ in datas]).to(self.device)\n",
    "        y = torch.LongTensor([_[1] for _ in datas]).to(self.device)\n",
    "\n",
    "        # pad前的长度(超过pad_size的设为pad_size)\n",
    "        seq_len = torch.LongTensor([_[2] for _ in datas]).to(self.device)\n",
    "        return (x, seq_len), y\n",
    "\n",
    "    def __next__(self):\n",
    "        if self.residue and self.index == self.n_batches:\n",
    "            batches = self.batches[self.index * self.batch_size: len(self.batches)]\n",
    "            self.index += 1\n",
    "            batches = self._to_tensor(batches)\n",
    "            return batches\n",
    "\n",
    "        elif self.index >= self.n_batches:\n",
    "            self.index = 0\n",
    "            raise StopIteration\n",
    "        else:\n",
    "            batches = self.batches[self.index * self.batch_size: (self.index + 1) * self.batch_size]\n",
    "            self.index += 1\n",
    "            batches = self._to_tensor(batches)\n",
    "            return batches\n",
    "\n",
    "    def __iter__(self):\n",
    "        return self\n",
    "\n",
    "    def __len__(self):\n",
    "        if self.residue:\n",
    "            return self.n_batches + 1\n",
    "        else:\n",
    "            return self.n_batches"
   ]
  },
  {
   "cell_type": "markdown",
   "metadata": {},
   "source": [
    "构建迭代器"
   ]
  },
  {
   "cell_type": "code",
   "execution_count": 36,
   "metadata": {},
   "outputs": [],
   "source": [
    "def build_iterator(dataset, config):\n",
    "    # 数据集和配置\n",
    "    iter = DatasetIterater(dataset, config.batch_size, config.device)\n",
    "    return iter"
   ]
  },
  {
   "cell_type": "markdown",
   "metadata": {},
   "source": [
    "计时器"
   ]
  },
  {
   "cell_type": "code",
   "execution_count": 37,
   "metadata": {},
   "outputs": [],
   "source": [
    "def get_time_dif(start_time): \n",
    "    # 就是计算个时间\n",
    "    \"\"\"获取已使用时间\"\"\"\n",
    "    end_time = time.time()\n",
    "    time_dif = end_time - start_time\n",
    "    return timedelta(seconds=int(round(time_dif)))"
   ]
  },
  {
   "cell_type": "markdown",
   "metadata": {},
   "source": [
    "# 训练"
   ]
  },
  {
   "cell_type": "code",
   "execution_count": 38,
   "metadata": {},
   "outputs": [],
   "source": [
    "import numpy as np\n",
    "import torch\n",
    "import torch.nn as nn\n",
    "import torch.nn.functional as F\n",
    "from sklearn import metrics\n",
    "import time\n",
    "from utils import get_time_dif\n",
    "from tensorboardX import SummaryWriter"
   ]
  },
  {
   "cell_type": "markdown",
   "metadata": {},
   "source": [
    "初始化"
   ]
  },
  {
   "cell_type": "code",
   "execution_count": 39,
   "metadata": {},
   "outputs": [],
   "source": [
    "# 权重初始化，默认xavier\n",
    "def init_network(model, method='xavier', exclude='embedding', seed=123):\n",
    "    for name, w in model.named_parameters():\n",
    "        if exclude not in name:\n",
    "            # 权重初始化\n",
    "            if 'weight' in name:\n",
    "                if method == 'xavier':\n",
    "                    nn.init.xavier_normal_(w) # xavier_normal 初始化\n",
    "                elif method == 'kaiming':\n",
    "                    nn.init.kaiming_normal_(w) # kaiming_uniform 初始化\n",
    "                else:\n",
    "                    nn.init.normal_(w) # 正态分布 - N(mean, std)\n",
    "            elif 'bias' in name:\n",
    "                nn.init.constant_(w, 0) # 常数 - 固定值 val\n",
    "            else:\n",
    "                pass"
   ]
  },
  {
   "cell_type": "markdown",
   "metadata": {},
   "source": [
    "估值"
   ]
  },
  {
   "cell_type": "code",
   "execution_count": 40,
   "metadata": {},
   "outputs": [],
   "source": [
    "def evaluate(config, model, data_iter, test=False):\n",
    "    # 把模型model.eval()作用是为了固定BN和dropout层，使得偏置参数不随着发生变化。因为当batchsize小时，如果没有固定，会对图像的失真有很大的影响。\n",
    "    # 训练完train_datasets之后，model要来测试样本了。在model(test_datasets)之前，需要加上model.eval(). 否则的话，有输入数据，即使不训练，它也会改变权值。这是model中含有batch normalization层所带来的的性质。在做one classification的时候，训练集和测试集的样本分布是不一样的，尤其需要注意这一点。\n",
    "    model.eval()\n",
    "    \n",
    "    loss_total = 0\n",
    "    predict_all = np.array([], dtype=int)\n",
    "    labels_all = np.array([], dtype=int)\n",
    "    with torch.no_grad():\n",
    "        for texts, labels in data_iter:\n",
    "            outputs = model(texts)\n",
    "            loss = F.cross_entropy(outputs, labels)\n",
    "            loss_total += loss\n",
    "            labels = labels.data.cpu().numpy()\n",
    "            predic = torch.max(outputs.data, 1)[1].cpu().numpy()\n",
    "            labels_all = np.append(labels_all, labels)\n",
    "            predict_all = np.append(predict_all, predic)\n",
    "\n",
    "    acc = metrics.accuracy_score(labels_all, predict_all)\n",
    "    if test:\n",
    "        report = metrics.classification_report(labels_all, predict_all, target_names=config.class_list, digits=4)\n",
    "        confusion = metrics.confusion_matrix(labels_all, predict_all)\n",
    "        return acc, loss_total / len(data_iter), report, confusion\n",
    "    return acc, loss_total / len(data_iter)"
   ]
  },
  {
   "cell_type": "markdown",
   "metadata": {},
   "source": [
    "测试"
   ]
  },
  {
   "cell_type": "code",
   "execution_count": 41,
   "metadata": {},
   "outputs": [],
   "source": [
    "def test(config, model, test_iter):\n",
    "    # test\n",
    "    model.load_state_dict(torch.load(config.save_path))\n",
    "    model.eval()\n",
    "    start_time = time.time()\n",
    "    test_acc, test_loss, test_report, test_confusion = evaluate(config, model, test_iter, test=True)\n",
    "    msg = 'Test Loss: {0:>5.2},  Test Acc: {1:>6.2%}'\n",
    "    print(msg.format(test_loss, test_acc))\n",
    "    print(\"Precision, Recall and F1-Score...\")\n",
    "    print(test_report)\n",
    "    print(\"Confusion Matrix...\")\n",
    "    print(test_confusion)\n",
    "    time_dif = get_time_dif(start_time)\n",
    "    print(\"Time usage:\", time_dif)"
   ]
  },
  {
   "cell_type": "markdown",
   "metadata": {},
   "source": [
    "训练"
   ]
  },
  {
   "cell_type": "code",
   "execution_count": 42,
   "metadata": {},
   "outputs": [],
   "source": [
    "def train(config, model, train_iter, dev_iter, test_iter):\n",
    "    start_time = time.time()\n",
    "    model.train()\n",
    "    optimizer = torch.optim.Adam(model.parameters(), lr=config.learning_rate)\n",
    "\n",
    "    # 学习率指数衰减，每次epoch：学习率 = gamma * 学习率\n",
    "    # scheduler = torch.optim.lr_scheduler.ExponentialLR(optimizer, gamma=0.9)\n",
    "    total_batch = 0  # 记录进行到多少batch\n",
    "    dev_best_loss = float('inf')\n",
    "    last_improve = 0  # 记录上次验证集loss下降的batch数\n",
    "    flag = False  # 记录是否很久没有效果提升\n",
    "    writer = SummaryWriter(log_dir=config.log_path + '/' + time.strftime('%m-%d_%H.%M', time.localtime()))\n",
    "    # 一个epoch等于使用训练集中的全部样本训练一次\n",
    "    for epoch in range(config.num_epochs):\n",
    "        print('Epoch [{}/{}]'.format(epoch + 1, config.num_epochs))\n",
    "        # scheduler.step() # 学习率衰减\n",
    "        for i, (trains, labels) in enumerate(train_iter):\n",
    "            outputs = model(trains)\n",
    "            model.zero_grad()\n",
    "            loss = F.cross_entropy(outputs, labels)\n",
    "            loss.backward()\n",
    "            optimizer.step()\n",
    "            if total_batch % 100 == 0:\n",
    "                # 每多少轮输出在训练集和验证集上的效果\n",
    "                true = labels.data.cpu()\n",
    "                predic = torch.max(outputs.data, 1)[1].cpu()\n",
    "                train_acc = metrics.accuracy_score(true, predic)\n",
    "                dev_acc, dev_loss = evaluate(config, model, dev_iter)\n",
    "                if dev_loss < dev_best_loss:\n",
    "                    dev_best_loss = dev_loss\n",
    "                    torch.save(model.state_dict(), config.save_path)\n",
    "                    improve = '*'\n",
    "                    last_improve = total_batch\n",
    "                else:\n",
    "                    improve = ''\n",
    "                time_dif = get_time_dif(start_time)\n",
    "                msg = 'Iter: {0:>6},  Train Loss: {1:>5.2},  Train Acc: {2:>6.2%},  Val Loss: {3:>5.2},  Val Acc: {4:>6.2%},  Time: {5} {6}'\n",
    "                print(msg.format(total_batch, loss.item(), train_acc, dev_loss, dev_acc, time_dif, improve))\n",
    "                writer.add_scalar(\"loss/train\", loss.item(), total_batch)\n",
    "                writer.add_scalar(\"loss/dev\", dev_loss, total_batch)\n",
    "                writer.add_scalar(\"acc/train\", train_acc, total_batch)\n",
    "                writer.add_scalar(\"acc/dev\", dev_acc, total_batch)\n",
    "                model.train()\n",
    "            total_batch += 1\n",
    "            if total_batch - last_improve > config.require_improvement:\n",
    "                # 验证集loss超过1000batch没下降，结束训练\n",
    "                print(\"No optimization for a long time, auto-stopping...\")\n",
    "                flag = True\n",
    "                break\n",
    "        if flag:\n",
    "            break\n",
    "    writer.close()\n",
    "    test(config, model, test_iter)"
   ]
  },
  {
   "cell_type": "markdown",
   "metadata": {},
   "source": [
    "# TextCNN"
   ]
  },
  {
   "cell_type": "code",
   "execution_count": 43,
   "metadata": {},
   "outputs": [],
   "source": [
    "import torch\n",
    "import torch.nn as nn\n",
    "import torch.nn.functional as F\n",
    "import numpy as np"
   ]
  },
  {
   "cell_type": "markdown",
   "metadata": {},
   "source": [
    "Config类"
   ]
  },
  {
   "cell_type": "code",
   "execution_count": 44,
   "metadata": {},
   "outputs": [],
   "source": [
    "class Config(object):\n",
    "\n",
    "    \"\"\"配置参数\"\"\"\n",
    "    def __init__(self, dataset, embedding):\n",
    "        self.model_name = 'TextCNN'\n",
    "        self.train_path = dataset + '/data/train.txt'                                # 训练集\n",
    "        self.dev_path = dataset + '/data/dev.txt'                                    # 验证集\n",
    "        self.test_path = dataset + '/data/test.txt'                                  # 测试集\n",
    "        self.class_list = [x.strip() for x in open(\n",
    "            dataset + '/data/class.txt', encoding='utf-8').readlines()]              # 类别名单\n",
    "        self.vocab_path = dataset + '/data/vocab.pkl'                                # 词表\n",
    "        self.save_path = dataset + '/saved_dict/' + self.model_name + '.ckpt'        # 模型训练结果\n",
    "        self.log_path = dataset + '/log/' + self.model_name\n",
    "        self.embedding_pretrained = torch.tensor(\n",
    "            np.load(dataset + '/data/' + embedding)[\"embeddings\"].astype('float32'))\\\n",
    "            if embedding != 'random' else None                                       # 预训练词向量\n",
    "        self.device = torch.device('cuda' if torch.cuda.is_available() else 'cpu')   # 设备\n",
    "\n",
    "        self.dropout = 0.5                                              # 随机失活\n",
    "        self.require_improvement = 1000                                 # 若超过1000batch效果还没提升，则提前结束训练\n",
    "        self.num_classes = len(self.class_list)                         # 类别数\n",
    "        self.n_vocab = 0                                                # 词表大小，在运行时赋值\n",
    "        self.num_epochs = 20                                            # epoch数\n",
    "        self.batch_size = 128                                           # mini-batch大小\n",
    "        self.pad_size = 32                                              # 每句话处理成的长度(短填长切)\n",
    "        self.learning_rate = 1e-3                                       # 学习率\n",
    "        self.embed = self.embedding_pretrained.size(1)\\\n",
    "            if self.embedding_pretrained is not None else 300           # 字向量维度\n",
    "        self.filter_sizes = (2, 3, 4)                                   # 卷积核尺寸\n",
    "        self.num_filters = 256                                          # 卷积核数量(channels数)"
   ]
  },
  {
   "cell_type": "markdown",
   "metadata": {},
   "source": [
    "Model类"
   ]
  },
  {
   "cell_type": "code",
   "execution_count": 45,
   "metadata": {},
   "outputs": [],
   "source": [
    "class Model(nn.Module):\n",
    "    def __init__(self, config):\n",
    "        super(Model, self).__init__()\n",
    "        if config.embedding_pretrained is not None:\n",
    "            self.embedding = nn.Embedding.from_pretrained(config.embedding_pretrained, freeze=False)\n",
    "        else:\n",
    "            self.embedding = nn.Embedding(config.n_vocab, config.embed, padding_idx=config.n_vocab - 1)#Embedding函数（词的数量，\n",
    "        self.convs = nn.ModuleList(\n",
    "            [nn.Conv2d(1, config.num_filters, (k, config.embed)) for k in config.filter_sizes])\n",
    "        self.dropout = nn.Dropout(config.dropout)\n",
    "        self.fc = nn.Linear(config.num_filters * len(config.filter_sizes), config.num_classes)\n",
    "\n",
    "    # 卷积和池化\n",
    "    def conv_and_pool(self, x, conv):\n",
    "        x = F.relu(conv(x)).squeeze(3)\n",
    "        x = F.max_pool1d(x, x.size(2)).squeeze(2)\n",
    "        return x\n",
    "\n",
    "    def forward(self, x):\n",
    "        # （嵌入层），数量，维度\n",
    "        out = self.embedding(x[0])\n",
    "        out = out.unsqueeze(1)\n",
    "        out = torch.cat([self.conv_and_pool(out, conv) for conv in self.convs], 1)\n",
    "        out = self.dropout(out)\n",
    "        out = self.fc(out)\n",
    "        return out"
   ]
  },
  {
   "cell_type": "markdown",
   "metadata": {},
   "source": [
    "# 运行"
   ]
  },
  {
   "cell_type": "code",
   "execution_count": 46,
   "metadata": {},
   "outputs": [],
   "source": [
    "import torch\n",
    "import numpy as np\n",
    "from train_eval import train, init_network\n",
    "from importlib import import_module\n",
    "import argparse\n",
    "from utils import build_dataset, build_iterator, get_time_dif"
   ]
  },
  {
   "cell_type": "markdown",
   "metadata": {},
   "source": [
    "主函数"
   ]
  },
  {
   "cell_type": "code",
   "execution_count": 52,
   "metadata": {},
   "outputs": [
    {
     "name": "stderr",
     "output_type": "stream",
     "text": [
      "5537it [00:00, 54826.14it/s]"
     ]
    },
    {
     "name": "stdout",
     "output_type": "stream",
     "text": [
      "Loading data...\n",
      "Vocab size: 4762\n"
     ]
    },
    {
     "name": "stderr",
     "output_type": "stream",
     "text": [
      "180000it [00:02, 68256.87it/s]\n",
      "10000it [00:00, 70927.97it/s]\n",
      "10000it [00:00, 72463.26it/s]\n"
     ]
    },
    {
     "name": "stdout",
     "output_type": "stream",
     "text": [
      "<bound method Module.parameters of Model(\n",
      "  (embedding): Embedding(4762, 300)\n",
      "  (convs): ModuleList(\n",
      "    (0): Conv2d(1, 256, kernel_size=(2, 300), stride=(1, 1))\n",
      "    (1): Conv2d(1, 256, kernel_size=(3, 300), stride=(1, 1))\n",
      "    (2): Conv2d(1, 256, kernel_size=(4, 300), stride=(1, 1))\n",
      "  )\n",
      "  (dropout): Dropout(p=0.5, inplace=False)\n",
      "  (fc): Linear(in_features=768, out_features=10, bias=True)\n",
      ")>\n",
      "Epoch [1/20]\n",
      "Iter:      0,  Train Loss:   2.3,  Train Acc:  9.38%,  Val Loss:   2.7,  Val Acc: 10.12%,  Time: 0:00:00 *\n",
      "Iter:    100,  Train Loss:  0.73,  Train Acc: 71.88%,  Val Loss:   0.7,  Val Acc: 78.29%,  Time: 0:00:04 *\n",
      "Iter:    200,  Train Loss:  0.72,  Train Acc: 78.12%,  Val Loss:  0.55,  Val Acc: 83.05%,  Time: 0:00:07 *\n",
      "Iter:    300,  Train Loss:  0.49,  Train Acc: 85.16%,  Val Loss:  0.49,  Val Acc: 84.89%,  Time: 0:00:10 *\n",
      "Iter:    400,  Train Loss:  0.68,  Train Acc: 78.91%,  Val Loss:  0.47,  Val Acc: 85.51%,  Time: 0:00:13 *\n",
      "Iter:    500,  Train Loss:  0.41,  Train Acc: 87.50%,  Val Loss:  0.44,  Val Acc: 86.16%,  Time: 0:00:17 *\n",
      "Iter:    600,  Train Loss:  0.53,  Train Acc: 84.38%,  Val Loss:  0.42,  Val Acc: 86.72%,  Time: 0:00:20 *\n",
      "Iter:    700,  Train Loss:  0.43,  Train Acc: 86.72%,  Val Loss:   0.4,  Val Acc: 87.32%,  Time: 0:00:23 *\n",
      "Iter:    800,  Train Loss:  0.51,  Train Acc: 82.03%,  Val Loss:   0.4,  Val Acc: 87.80%,  Time: 0:00:26 *\n",
      "Iter:    900,  Train Loss:  0.42,  Train Acc: 89.84%,  Val Loss:  0.39,  Val Acc: 88.07%,  Time: 0:00:30 *\n",
      "Iter:   1000,  Train Loss:  0.32,  Train Acc: 90.62%,  Val Loss:  0.39,  Val Acc: 87.88%,  Time: 0:00:33 \n",
      "Iter:   1100,  Train Loss:  0.39,  Train Acc: 90.62%,  Val Loss:  0.38,  Val Acc: 88.31%,  Time: 0:00:36 *\n",
      "Iter:   1200,  Train Loss:  0.33,  Train Acc: 88.28%,  Val Loss:  0.38,  Val Acc: 88.35%,  Time: 0:00:39 *\n",
      "Iter:   1300,  Train Loss:   0.4,  Train Acc: 87.50%,  Val Loss:  0.37,  Val Acc: 88.24%,  Time: 0:00:43 *\n",
      "Iter:   1400,  Train Loss:  0.53,  Train Acc: 85.16%,  Val Loss:  0.36,  Val Acc: 88.96%,  Time: 0:00:46 *\n",
      "Epoch [2/20]\n",
      "Iter:   1500,  Train Loss:   0.4,  Train Acc: 87.50%,  Val Loss:  0.35,  Val Acc: 89.09%,  Time: 0:00:49 *\n",
      "Iter:   1600,  Train Loss:  0.26,  Train Acc: 89.84%,  Val Loss:  0.36,  Val Acc: 88.86%,  Time: 0:00:52 \n",
      "Iter:   1700,  Train Loss:  0.34,  Train Acc: 91.41%,  Val Loss:  0.34,  Val Acc: 89.58%,  Time: 0:00:56 *\n",
      "Iter:   1800,  Train Loss:  0.31,  Train Acc: 89.06%,  Val Loss:  0.36,  Val Acc: 88.81%,  Time: 0:00:59 \n",
      "Iter:   1900,  Train Loss:  0.32,  Train Acc: 90.62%,  Val Loss:  0.35,  Val Acc: 89.41%,  Time: 0:01:02 \n",
      "Iter:   2000,  Train Loss:  0.36,  Train Acc: 88.28%,  Val Loss:  0.34,  Val Acc: 89.41%,  Time: 0:01:05 *\n",
      "Iter:   2100,  Train Loss:  0.37,  Train Acc: 88.28%,  Val Loss:  0.34,  Val Acc: 89.67%,  Time: 0:01:09 *\n",
      "Iter:   2200,  Train Loss:  0.32,  Train Acc: 90.62%,  Val Loss:  0.34,  Val Acc: 89.68%,  Time: 0:01:12 \n",
      "Iter:   2300,  Train Loss:  0.33,  Train Acc: 89.84%,  Val Loss:  0.34,  Val Acc: 89.67%,  Time: 0:01:15 \n",
      "Iter:   2400,  Train Loss:  0.26,  Train Acc: 93.75%,  Val Loss:  0.34,  Val Acc: 89.48%,  Time: 0:01:18 \n",
      "Iter:   2500,  Train Loss:  0.25,  Train Acc: 89.84%,  Val Loss:  0.33,  Val Acc: 89.83%,  Time: 0:01:22 *\n",
      "Iter:   2600,  Train Loss:  0.34,  Train Acc: 89.06%,  Val Loss:  0.33,  Val Acc: 89.76%,  Time: 0:01:25 \n",
      "Iter:   2700,  Train Loss:  0.26,  Train Acc: 87.50%,  Val Loss:  0.33,  Val Acc: 89.88%,  Time: 0:01:28 *\n",
      "Iter:   2800,  Train Loss:  0.42,  Train Acc: 86.72%,  Val Loss:  0.33,  Val Acc: 89.84%,  Time: 0:01:31 \n",
      "Epoch [3/20]\n",
      "Iter:   2900,  Train Loss:  0.44,  Train Acc: 88.28%,  Val Loss:  0.33,  Val Acc: 89.87%,  Time: 0:01:35 \n",
      "Iter:   3000,  Train Loss:  0.21,  Train Acc: 94.53%,  Val Loss:  0.34,  Val Acc: 89.68%,  Time: 0:01:38 \n",
      "Iter:   3100,  Train Loss:  0.31,  Train Acc: 91.41%,  Val Loss:  0.33,  Val Acc: 89.95%,  Time: 0:01:41 \n",
      "Iter:   3200,  Train Loss:   0.4,  Train Acc: 89.84%,  Val Loss:  0.34,  Val Acc: 89.82%,  Time: 0:01:44 \n",
      "Iter:   3300,  Train Loss:  0.34,  Train Acc: 87.50%,  Val Loss:  0.33,  Val Acc: 90.06%,  Time: 0:01:48 \n",
      "Iter:   3400,  Train Loss:  0.31,  Train Acc: 88.28%,  Val Loss:  0.33,  Val Acc: 89.86%,  Time: 0:01:52 \n",
      "Iter:   3500,  Train Loss:  0.19,  Train Acc: 96.09%,  Val Loss:  0.32,  Val Acc: 90.07%,  Time: 0:01:57 *\n",
      "Iter:   3600,  Train Loss:  0.15,  Train Acc: 96.09%,  Val Loss:  0.33,  Val Acc: 89.78%,  Time: 0:02:02 \n",
      "Iter:   3700,  Train Loss:  0.35,  Train Acc: 89.06%,  Val Loss:  0.32,  Val Acc: 90.13%,  Time: 0:02:06 \n",
      "Iter:   3800,  Train Loss:  0.31,  Train Acc: 89.06%,  Val Loss:  0.33,  Val Acc: 90.19%,  Time: 0:02:11 \n",
      "Iter:   3900,  Train Loss:  0.29,  Train Acc: 92.97%,  Val Loss:  0.33,  Val Acc: 89.98%,  Time: 0:02:16 \n",
      "Iter:   4000,  Train Loss:  0.27,  Train Acc: 93.75%,  Val Loss:  0.33,  Val Acc: 90.04%,  Time: 0:02:21 \n",
      "Iter:   4100,  Train Loss:  0.27,  Train Acc: 89.06%,  Val Loss:  0.33,  Val Acc: 90.16%,  Time: 0:02:26 \n",
      "Iter:   4200,  Train Loss:  0.31,  Train Acc: 92.19%,  Val Loss:  0.33,  Val Acc: 90.02%,  Time: 0:02:31 \n",
      "Epoch [4/20]\n",
      "Iter:   4300,  Train Loss:  0.21,  Train Acc: 92.19%,  Val Loss:  0.32,  Val Acc: 90.38%,  Time: 0:02:35 *\n",
      "Iter:   4400,  Train Loss:   0.2,  Train Acc: 96.88%,  Val Loss:  0.32,  Val Acc: 90.38%,  Time: 0:02:40 \n",
      "Iter:   4500,  Train Loss:  0.31,  Train Acc: 92.19%,  Val Loss:  0.33,  Val Acc: 90.12%,  Time: 0:02:45 \n",
      "Iter:   4600,  Train Loss:  0.22,  Train Acc: 94.53%,  Val Loss:  0.33,  Val Acc: 89.93%,  Time: 0:02:50 \n",
      "Iter:   4700,  Train Loss:  0.34,  Train Acc: 87.50%,  Val Loss:  0.32,  Val Acc: 90.48%,  Time: 0:02:55 \n",
      "Iter:   4800,  Train Loss:   0.2,  Train Acc: 91.41%,  Val Loss:  0.32,  Val Acc: 90.45%,  Time: 0:03:00 *\n",
      "Iter:   4900,  Train Loss:  0.22,  Train Acc: 92.19%,  Val Loss:  0.32,  Val Acc: 90.49%,  Time: 0:03:05 \n",
      "Iter:   5000,  Train Loss:  0.23,  Train Acc: 94.53%,  Val Loss:  0.33,  Val Acc: 90.17%,  Time: 0:03:09 \n",
      "Iter:   5100,  Train Loss:  0.22,  Train Acc: 93.75%,  Val Loss:  0.32,  Val Acc: 90.38%,  Time: 0:03:14 \n",
      "Iter:   5200,  Train Loss:  0.32,  Train Acc: 90.62%,  Val Loss:  0.32,  Val Acc: 90.41%,  Time: 0:03:19 \n",
      "Iter:   5300,  Train Loss:  0.21,  Train Acc: 92.97%,  Val Loss:  0.32,  Val Acc: 90.41%,  Time: 0:03:23 \n",
      "Iter:   5400,  Train Loss:  0.33,  Train Acc: 92.97%,  Val Loss:  0.33,  Val Acc: 90.07%,  Time: 0:03:28 \n",
      "Iter:   5500,  Train Loss:  0.29,  Train Acc: 92.19%,  Val Loss:  0.32,  Val Acc: 90.40%,  Time: 0:03:33 \n",
      "Iter:   5600,  Train Loss:  0.14,  Train Acc: 94.53%,  Val Loss:  0.32,  Val Acc: 90.41%,  Time: 0:03:38 *\n",
      "Epoch [5/20]\n",
      "Iter:   5700,  Train Loss:  0.29,  Train Acc: 92.19%,  Val Loss:  0.32,  Val Acc: 90.39%,  Time: 0:03:43 \n",
      "Iter:   5800,  Train Loss:  0.17,  Train Acc: 94.53%,  Val Loss:  0.33,  Val Acc: 90.48%,  Time: 0:03:48 \n",
      "Iter:   5900,  Train Loss:  0.19,  Train Acc: 93.75%,  Val Loss:  0.33,  Val Acc: 90.81%,  Time: 0:03:52 \n",
      "Iter:   6000,  Train Loss:  0.23,  Train Acc: 91.41%,  Val Loss:  0.33,  Val Acc: 90.50%,  Time: 0:03:57 \n",
      "Iter:   6100,  Train Loss:  0.18,  Train Acc: 95.31%,  Val Loss:  0.33,  Val Acc: 90.44%,  Time: 0:04:02 \n",
      "Iter:   6200,  Train Loss:   0.1,  Train Acc: 96.88%,  Val Loss:  0.32,  Val Acc: 90.77%,  Time: 0:04:07 \n",
      "Iter:   6300,  Train Loss:  0.18,  Train Acc: 93.75%,  Val Loss:  0.32,  Val Acc: 90.72%,  Time: 0:04:12 \n",
      "Iter:   6400,  Train Loss:  0.14,  Train Acc: 95.31%,  Val Loss:  0.32,  Val Acc: 90.53%,  Time: 0:04:17 \n",
      "Iter:   6500,  Train Loss:  0.21,  Train Acc: 92.19%,  Val Loss:  0.32,  Val Acc: 90.42%,  Time: 0:04:22 \n",
      "Iter:   6600,  Train Loss:  0.25,  Train Acc: 92.97%,  Val Loss:  0.32,  Val Acc: 90.98%,  Time: 0:04:26 \n",
      "No optimization for a long time, auto-stopping...\n",
      "Test Loss:   0.3,  Test Acc: 91.09%\n",
      "Precision, Recall and F1-Score...\n",
      "               precision    recall  f1-score   support\n",
      "\n",
      "      finance     0.9316    0.8720    0.9008      1000\n",
      "       realty     0.9116    0.9380    0.9246      1000\n",
      "       stocks     0.8480    0.8760    0.8618      1000\n",
      "    education     0.9585    0.9480    0.9532      1000\n",
      "      science     0.8621    0.8690    0.8655      1000\n",
      "      society     0.9058    0.9130    0.9094      1000\n",
      "     politics     0.8821    0.9130    0.8973      1000\n",
      "       sports     0.9652    0.9430    0.9540      1000\n",
      "         game     0.9432    0.8970    0.9195      1000\n",
      "entertainment     0.9091    0.9400    0.9243      1000\n",
      "\n",
      "     accuracy                         0.9109     10000\n",
      "    macro avg     0.9117    0.9109    0.9110     10000\n",
      " weighted avg     0.9117    0.9109    0.9110     10000\n",
      "\n",
      "Confusion Matrix...\n",
      "[[872  25  61   3   9   7  13   5   2   3]\n",
      " [ 11 938  20   1   3  10   8   2   1   6]\n",
      " [ 34  22 876   1  25   2  35   2   1   2]\n",
      " [  0   3   2 948   4  20  10   0   1  12]\n",
      " [  3   8  32   6 869  17  21   1  25  18]\n",
      " [  5  20   0  14  10 913  22   2   3  11]\n",
      " [  8   4  25   6  14  21 913   3   0   6]\n",
      " [  1   3   3   2   5   9   6 943   4  24]\n",
      " [  1   1  11   4  61   3   3   7 897  12]\n",
      " [  1   5   3   4   8   6   4  12  17 940]]\n",
      "Time usage: 0:00:01\n"
     ]
    }
   ],
   "source": [
    "if __name__ == '__main__':\n",
    "    dataset = 'THUCNews'  # 数据集\n",
    "\n",
    "    # 搜狗新闻:embedding_SougouNews.npz, 腾讯:embedding_Tencent.npz, 随机初始化:random\n",
    "    embedding = 'embedding_SougouNews.npz'\n",
    "    if model_name == 'FastText':\n",
    "        from utils_fasttext import build_dataset, build_iterator, get_time_dif\n",
    "        embedding = 'random'\n",
    "    else:\n",
    "        from utils import build_dataset, build_iterator, get_time_dif\n",
    "\n",
    "    # 导入了textCNN\n",
    "    model_name = 'TextCNN'\n",
    "    x = import_module('models.' + model_name)\n",
    "    config = x.Config(dataset, embedding)\n",
    "    # 随机初始化\n",
    "    np.random.seed(1)\n",
    "    torch.manual_seed(1)\n",
    "    torch.cuda.manual_seed_all(1)\n",
    "    torch.backends.cudnn.deterministic = True  # 保证每次结果一样\n",
    "    print(\"Loading data...\")\n",
    "    # 导入数据\n",
    "    vocab, train_data, dev_data, test_data = build_dataset(config, False)\n",
    "    # 迭代器\n",
    "    train_iter = build_iterator(train_data, config)\n",
    "    dev_iter = build_iterator(dev_data, config)\n",
    "    test_iter = build_iterator(test_data, config)\n",
    "\n",
    "    # train\n",
    "    config.n_vocab = len(vocab)\n",
    "    model = x.Model(config).to(config.device)\n",
    "    if model_name != 'Transformer':\n",
    "        init_network(model)\n",
    "    print(model.parameters)\n",
    "    train(config, model, train_iter, dev_iter, test_iter)"
   ]
  },
  {
   "cell_type": "code",
   "execution_count": 48,
   "metadata": {},
   "outputs": [
    {
     "name": "stdout",
     "output_type": "stream",
     "text": [
      "pre is: 123  12312312 \n",
      "anwser is:123  12312312\n"
     ]
    }
   ],
   "source": [
    "line = ' 123  12312312 '\n",
    "lin = line.strip()\n",
    "print('pre is:'+line)\n",
    "print('anwser is:'+lin)"
   ]
  },
  {
   "cell_type": "code",
   "execution_count": null,
   "metadata": {},
   "outputs": [],
   "source": []
  }
 ],
 "metadata": {
  "kernelspec": {
   "display_name": "Python 3",
   "language": "python",
   "name": "python3"
  },
  "language_info": {
   "codemirror_mode": {
    "name": "ipython",
    "version": 3
   },
   "file_extension": ".py",
   "mimetype": "text/x-python",
   "name": "python",
   "nbconvert_exporter": "python",
   "pygments_lexer": "ipython3",
   "version": "3.6.5"
  }
 },
 "nbformat": 4,
 "nbformat_minor": 4
}
